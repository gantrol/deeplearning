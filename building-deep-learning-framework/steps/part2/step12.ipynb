{
 "cells": [
  {
   "cell_type": "code",
   "id": "initial_id",
   "metadata": {
    "collapsed": true,
    "ExecuteTime": {
     "end_time": "2024-07-14T09:09:02.787355Z",
     "start_time": "2024-07-14T09:09:02.714846Z"
    }
   },
   "source": "import numpy as np",
   "outputs": [],
   "execution_count": 1
  },
  {
   "metadata": {
    "ExecuteTime": {
     "end_time": "2024-07-14T09:09:02.802743Z",
     "start_time": "2024-07-14T09:09:02.788355Z"
    }
   },
   "cell_type": "code",
   "source": [
    "class Variable:\n",
    "    def __init__(self, data):\n",
    "        if data is not None:\n",
    "            if not isinstance(data, np.ndarray):\n",
    "                raise TypeError('{} is not supported'.format(type(data)))\n",
    "\n",
    "        self.data = data\n",
    "        self.grad = None\n",
    "        self.creator = None\n",
    "\n",
    "    def set_creator(self, func):\n",
    "        self.creator = func\n",
    "\n",
    "    def backward(self):\n",
    "        if self.grad is None:\n",
    "            self.grad = np.ones_like(self.data) # TODO: ques\n",
    "\n",
    "        funcs = [self.creator]\n",
    "        while funcs:\n",
    "            f = funcs.pop()\n",
    "            x, y = f.input, f.output\n",
    "            x.grad = f.backward(y.grad)\n",
    "\n",
    "            if x.creator is not None:\n",
    "                funcs.append(x.creator)"
   ],
   "id": "bfe9fc54525d8578",
   "outputs": [],
   "execution_count": 2
  },
  {
   "metadata": {
    "ExecuteTime": {
     "end_time": "2024-07-14T09:09:02.818216Z",
     "start_time": "2024-07-14T09:09:02.803746Z"
    }
   },
   "cell_type": "code",
   "source": [
    "def as_array(x):\n",
    "    if np.isscalar(x):\n",
    "        return np.array(x)\n",
    "    return x"
   ],
   "id": "4fd8678dbef8abe",
   "outputs": [],
   "execution_count": 3
  },
  {
   "metadata": {
    "ExecuteTime": {
     "end_time": "2024-07-14T09:09:02.834254Z",
     "start_time": "2024-07-14T09:09:02.818216Z"
    }
   },
   "cell_type": "code",
   "source": [
    "from typing import List\n",
    "\n",
    "\n",
    "class Function:\n",
    "    def __call__(self, *input_variables: [Variable]) -> [Variable]:\n",
    "        input_data = [input_variable.data for input_variable in input_variables]\n",
    "        output_data = self.forward(*input_data)\n",
    "        if not isinstance(output_data, tuple):\n",
    "            output_data = (output_data,)\n",
    "        output_variables = [Variable(as_array(data)) for data in output_data]\n",
    "        for output_variable in output_variables:\n",
    "            output_variable.set_creator(self)\n",
    "        self.inputs: [Variable] = input_variables\n",
    "        self.outputs: [Variable] = output_variables\n",
    "        return output_variables if len(output_variables) > 1 else output_variables[0]\n",
    "    \n",
    "    def forward(self, input_data):\n",
    "        raise NotImplementedError()\n",
    "    \n",
    "    def backward(self, output_data) -> [Variable]:\n",
    "        \"\"\"\n",
    "        \n",
    "        :param output_data: gradient of the output with respect to input data.\n",
    "        :return: \n",
    "        \"\"\"\n",
    "        raise NotImplementedError()"
   ],
   "id": "25023bc2f653148c",
   "outputs": [],
   "execution_count": 4
  },
  {
   "metadata": {
    "ExecuteTime": {
     "end_time": "2024-07-14T09:09:02.849423Z",
     "start_time": "2024-07-14T09:09:02.835255Z"
    }
   },
   "cell_type": "code",
   "source": [
    "class Add(Function):\n",
    "    def forward(self, x0, x1):  # TODO: it seems not correct\n",
    "        y = x0 + x1\n",
    "        return (y,)"
   ],
   "id": "6db1b923fe3c2ca6",
   "outputs": [],
   "execution_count": 5
  },
  {
   "metadata": {
    "ExecuteTime": {
     "end_time": "2024-07-14T09:09:02.864554Z",
     "start_time": "2024-07-14T09:09:02.850427Z"
    }
   },
   "cell_type": "code",
   "source": [
    "def add(x0, x1):\n",
    "    return Add()(x0, x1)"
   ],
   "id": "6fbf40b87823ba4d",
   "outputs": [],
   "execution_count": 6
  },
  {
   "metadata": {
    "ExecuteTime": {
     "end_time": "2024-07-14T09:09:02.880436Z",
     "start_time": "2024-07-14T09:09:02.865557Z"
    }
   },
   "cell_type": "code",
   "source": [
    "x0 = Variable(np.array(2))\n",
    "x1 = Variable(np.array(3))\n",
    "y = add(x0, x1)\n",
    "print(y.data)"
   ],
   "id": "e962ab76619c893",
   "outputs": [
    {
     "name": "stdout",
     "output_type": "stream",
     "text": [
      "5\n"
     ]
    }
   ],
   "execution_count": 7
  }
 ],
 "metadata": {
  "kernelspec": {
   "display_name": "Python 3",
   "language": "python",
   "name": "python3"
  },
  "language_info": {
   "codemirror_mode": {
    "name": "ipython",
    "version": 2
   },
   "file_extension": ".py",
   "mimetype": "text/x-python",
   "name": "python",
   "nbconvert_exporter": "python",
   "pygments_lexer": "ipython2",
   "version": "2.7.6"
  }
 },
 "nbformat": 4,
 "nbformat_minor": 5
}

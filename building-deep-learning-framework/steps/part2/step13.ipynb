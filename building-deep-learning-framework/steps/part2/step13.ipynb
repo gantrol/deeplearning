{
 "cells": [
  {
   "cell_type": "code",
   "id": "initial_id",
   "metadata": {
    "collapsed": true,
    "ExecuteTime": {
     "end_time": "2024-07-14T10:54:01.140880Z",
     "start_time": "2024-07-14T10:54:01.069012Z"
    }
   },
   "source": "import numpy as np",
   "outputs": [],
   "execution_count": 1
  },
  {
   "metadata": {
    "ExecuteTime": {
     "end_time": "2024-07-14T10:54:01.155879Z",
     "start_time": "2024-07-14T10:54:01.141881Z"
    }
   },
   "cell_type": "code",
   "source": [
    "class Variable:\n",
    "    def __init__(self, data):\n",
    "        if data is not None:\n",
    "            if not isinstance(data, np.ndarray):\n",
    "                raise TypeError('{} is not supported'.format(type(data)))\n",
    "\n",
    "        self.data = data\n",
    "        self.grad = None\n",
    "        self.creator = None\n",
    "\n",
    "    def set_creator(self, func):\n",
    "        self.creator = func\n",
    "\n",
    "    def backward(self):\n",
    "        if self.grad is None:\n",
    "            self.grad = np.ones_like(self.data) # TODO: ques\n",
    "\n",
    "        funcs = [self.creator]\n",
    "        while funcs:\n",
    "            f = funcs.pop()\n",
    "            gys = [output.grad for output in f.outputs]\n",
    "            gxs = f.backward(*gys)\n",
    "            if not isinstance(gxs, tuple):\n",
    "                gxs = (gxs,)\n",
    "\n",
    "            for x, gx in zip(f.inputs, gxs):\n",
    "                x.grad = gx\n",
    "\n",
    "                if x.creator is not None:\n",
    "                    funcs.append(x.creator)"
   ],
   "id": "bfe9fc54525d8578",
   "outputs": [],
   "execution_count": 2
  },
  {
   "metadata": {
    "ExecuteTime": {
     "end_time": "2024-07-14T10:54:01.171082Z",
     "start_time": "2024-07-14T10:54:01.156881Z"
    }
   },
   "cell_type": "code",
   "source": [
    "def as_array(x):\n",
    "    if np.isscalar(x):\n",
    "        return np.array(x)\n",
    "    return x"
   ],
   "id": "4fd8678dbef8abe",
   "outputs": [],
   "execution_count": 3
  },
  {
   "metadata": {
    "ExecuteTime": {
     "end_time": "2024-07-14T10:54:01.187085Z",
     "start_time": "2024-07-14T10:54:01.172084Z"
    }
   },
   "cell_type": "code",
   "source": [
    "from typing import List\n",
    "\n",
    "\n",
    "class Function:\n",
    "    def __call__(self, *input_variables: [Variable]) -> [Variable]:\n",
    "        input_data = [input_variable.data for input_variable in input_variables]\n",
    "        output_data = self.forward(*input_data)\n",
    "        if not isinstance(output_data, tuple):\n",
    "            output_data = (output_data,)\n",
    "        output_variables = [Variable(as_array(data)) for data in output_data]\n",
    "        for output_variable in output_variables:\n",
    "            output_variable.set_creator(self)\n",
    "        self.inputs: [Variable] = input_variables\n",
    "        self.outputs: [Variable] = output_variables\n",
    "        return output_variables if len(output_variables) > 1 else output_variables[0]\n",
    "    \n",
    "    def forward(self, input_data):\n",
    "        raise NotImplementedError()\n",
    "    \n",
    "    def backward(self, output_data) -> [Variable]:\n",
    "        \"\"\"\n",
    "        \n",
    "        :param output_data: gradient of the output with respect to input data.\n",
    "        :return: \n",
    "        \"\"\"\n",
    "        raise NotImplementedError()"
   ],
   "id": "25023bc2f653148c",
   "outputs": [],
   "execution_count": 4
  },
  {
   "metadata": {
    "ExecuteTime": {
     "end_time": "2024-07-14T10:54:01.202084Z",
     "start_time": "2024-07-14T10:54:01.188085Z"
    }
   },
   "cell_type": "code",
   "source": [
    "class Add(Function):\n",
    "    def forward(self, x0, x1):  # TODO: it seems not correct\n",
    "        y = x0 + x1\n",
    "        return (y,)\n",
    "    \n",
    "    def backward(self, output_data) -> [Variable]:\n",
    "        return output_data, output_data\n",
    "\n",
    "def add(x0, x1):\n",
    "    return Add()(x0, x1)"
   ],
   "id": "6db1b923fe3c2ca6",
   "outputs": [],
   "execution_count": 5
  },
  {
   "metadata": {
    "ExecuteTime": {
     "end_time": "2024-07-14T10:54:01.216723Z",
     "start_time": "2024-07-14T10:54:01.203084Z"
    }
   },
   "cell_type": "code",
   "source": [
    "class Square(Function):\n",
    "    def forward(self, x):\n",
    "        y = x ** 2\n",
    "        return y\n",
    "\n",
    "    def backward(self, gy):\n",
    "        x = self.inputs[0].data\n",
    "        gx = 2 * x * gy\n",
    "        return gx\n",
    "\n",
    "def square(x):\n",
    "    f = Square()\n",
    "    return f(x)"
   ],
   "id": "530848503133ed56",
   "outputs": [],
   "execution_count": 6
  },
  {
   "metadata": {
    "ExecuteTime": {
     "end_time": "2024-07-14T10:54:01.232684Z",
     "start_time": "2024-07-14T10:54:01.217724Z"
    }
   },
   "cell_type": "code",
   "source": [
    "x = Variable(np.array(2.0))\n",
    "y = Variable(np.array(3.0))\n",
    "\n",
    "z = add(square(x), square(y))\n",
    "z.backward()\n",
    "print(z.data)\n",
    "print(x.grad)\n",
    "print(y.grad)"
   ],
   "id": "ba8332a3f0387724",
   "outputs": [
    {
     "name": "stdout",
     "output_type": "stream",
     "text": [
      "13.0\n",
      "4.0\n",
      "6.0\n"
     ]
    }
   ],
   "execution_count": 7
  },
  {
   "metadata": {
    "ExecuteTime": {
     "end_time": "2024-07-14T10:54:01.248695Z",
     "start_time": "2024-07-14T10:54:01.233686Z"
    }
   },
   "cell_type": "code",
   "source": [
    "x_2 = Variable(np.array(2.0))\n",
    "z_x_2 = add(square(x_2), square(x_2))\n",
    "z_x_2.backward()\n",
    "print(z_x_2.data)\n",
    "print(x_2.grad)"
   ],
   "id": "9c570ae6737f1de0",
   "outputs": [
    {
     "name": "stdout",
     "output_type": "stream",
     "text": [
      "8.0\n",
      "4.0\n"
     ]
    }
   ],
   "execution_count": 8
  },
  {
   "metadata": {
    "ExecuteTime": {
     "end_time": "2024-07-14T10:54:01.264680Z",
     "start_time": "2024-07-14T10:54:01.249696Z"
    }
   },
   "cell_type": "code",
   "source": "x_2 == 8",
   "id": "fa09d41bd3714b3e",
   "outputs": [
    {
     "data": {
      "text/plain": [
       "False"
      ]
     },
     "execution_count": 9,
     "metadata": {},
     "output_type": "execute_result"
    }
   ],
   "execution_count": 9
  }
 ],
 "metadata": {
  "kernelspec": {
   "display_name": "Python 3",
   "language": "python",
   "name": "python3"
  },
  "language_info": {
   "codemirror_mode": {
    "name": "ipython",
    "version": 2
   },
   "file_extension": ".py",
   "mimetype": "text/x-python",
   "name": "python",
   "nbconvert_exporter": "python",
   "pygments_lexer": "ipython2",
   "version": "2.7.6"
  }
 },
 "nbformat": 4,
 "nbformat_minor": 5
}

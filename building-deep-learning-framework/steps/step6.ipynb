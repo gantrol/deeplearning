{
 "cells": [
  {
   "metadata": {
    "ExecuteTime": {
     "end_time": "2024-07-13T13:01:11.062990Z",
     "start_time": "2024-07-13T13:01:11.047216Z"
    }
   },
   "cell_type": "code",
   "source": "import numpy as np",
   "id": "initial_id",
   "outputs": [],
   "execution_count": 36
  },
  {
   "metadata": {},
   "cell_type": "markdown",
   "source": [
    "## Variable Like a Tag\n",
    "\n",
    "> 变量像个标签"
   ],
   "id": "7bcee71a98b81e0f"
  },
  {
   "metadata": {
    "ExecuteTime": {
     "end_time": "2024-07-13T13:01:11.077883Z",
     "start_time": "2024-07-13T13:01:11.064007Z"
    }
   },
   "cell_type": "code",
   "source": [
    "class Variable:\n",
    "    def __init__(self, data):\n",
    "        self.data = data\n",
    "        self.grad = None"
   ],
   "id": "bf2ab4958f75f0c9",
   "outputs": [],
   "execution_count": 37
  },
  {
   "metadata": {
    "ExecuteTime": {
     "end_time": "2024-07-13T13:01:11.093886Z",
     "start_time": "2024-07-13T13:01:11.077883Z"
    }
   },
   "cell_type": "code",
   "source": [
    "class Function:\n",
    "    def __call__(self, input_variable: Variable):\n",
    "        input_data = input_variable.data\n",
    "        output_data = self.forward(input_data)\n",
    "        output_variable = Variable(output_data)\n",
    "        self.input: Variable = input_variable\n",
    "        return output_variable\n",
    "    \n",
    "    def forward(self, input_data):\n",
    "        raise NotImplementedError()\n",
    "    \n",
    "    def backward(self, output_data):\n",
    "        \"\"\"\n",
    "        \n",
    "        :param output_data: gradient of the output with respect to input data.\n",
    "        :return: \n",
    "        \"\"\"\n",
    "        raise NotImplementedError()"
   ],
   "id": "d427bc0d15acd089",
   "outputs": [],
   "execution_count": 38
  },
  {
   "metadata": {
    "ExecuteTime": {
     "end_time": "2024-07-13T13:01:11.109898Z",
     "start_time": "2024-07-13T13:01:11.094888Z"
    }
   },
   "cell_type": "code",
   "source": [
    "class Square(Function):\n",
    "    def forward(self, input_data):\n",
    "        \"\"\"\n",
    "        \n",
    "        :param input_data: any data, or `x`\n",
    "        :return: output, or `y`\n",
    "        \"\"\"\n",
    "        output = input_data ** 2\n",
    "        return output\n",
    "    \n",
    "    def backward(self, output_data):\n",
    "        \"\"\"\n",
    "        \n",
    "        :param output_data: `gy`\n",
    "        :return: grad_input, or `gx`\n",
    "        \"\"\"\n",
    "        input_data = self.input.data\n",
    "        grad_input = 2 * input_data * output_data\n",
    "        return grad_input"
   ],
   "id": "36523c575b3e9200",
   "outputs": [],
   "execution_count": 39
  },
  {
   "metadata": {
    "ExecuteTime": {
     "end_time": "2024-07-13T13:01:11.125508Z",
     "start_time": "2024-07-13T13:01:11.110899Z"
    }
   },
   "cell_type": "code",
   "source": [
    "class Exp(Function):\n",
    "    def forward(self, input_data):\n",
    "        return np.exp(input_data)\n",
    "    \n",
    "    def backward(self, output_data):\n",
    "        input_data = self.input.data\n",
    "        grad_input = np.exp(input_data) * output_data\n",
    "        return grad_input"
   ],
   "id": "3506b7f364d58f71",
   "outputs": [],
   "execution_count": 40
  },
  {
   "metadata": {
    "ExecuteTime": {
     "end_time": "2024-07-13T13:01:11.141366Z",
     "start_time": "2024-07-13T13:01:11.126512Z"
    }
   },
   "cell_type": "code",
   "source": [
    "A = Square()\n",
    "B = Exp()\n",
    "C = Square()\n",
    "\n",
    "x = Variable(np.array(0.5))\n",
    "a = A(x)\n",
    "b = B(a)\n",
    "y = C(b)"
   ],
   "id": "aec1de0f8b8f61f6",
   "outputs": [],
   "execution_count": 41
  },
  {
   "metadata": {
    "ExecuteTime": {
     "end_time": "2024-07-13T13:01:11.157483Z",
     "start_time": "2024-07-13T13:01:11.141869Z"
    }
   },
   "cell_type": "code",
   "source": [
    "y.grad = np.array(1.0)\n",
    "print(y.grad)\n",
    "b.grad = C.backward(y.grad)\n",
    "print(b.grad)\n",
    "a.grad = B.backward(b.grad)\n",
    "print(a.grad)\n",
    "x.grad = A.backward(a.grad)\n",
    "print(x.grad)"
   ],
   "id": "3cb7d0755d95be21",
   "outputs": [
    {
     "name": "stdout",
     "output_type": "stream",
     "text": [
      "1.0\n",
      "2.568050833375483\n",
      "3.297442541400256\n",
      "3.297442541400256\n"
     ]
    }
   ],
   "execution_count": 42
  },
  {
   "metadata": {
    "ExecuteTime": {
     "end_time": "2024-07-13T13:01:11.173483Z",
     "start_time": "2024-07-13T13:01:11.158485Z"
    }
   },
   "cell_type": "code",
   "source": [
    "def numerical_diff(f, x: Variable, eps=1e-6):\n",
    "    x0 = Variable(x.data - eps)\n",
    "    x1 = Variable(x.data + eps)\n",
    "    y0 = f(x0)\n",
    "    y1 = f(x1)\n",
    "    return (y1.data - y0.data) / (2 * eps)"
   ],
   "id": "25492efc6a183a6a",
   "outputs": [],
   "execution_count": 43
  },
  {
   "metadata": {
    "ExecuteTime": {
     "end_time": "2024-07-13T13:01:11.189484Z",
     "start_time": "2024-07-13T13:01:11.174484Z"
    }
   },
   "cell_type": "code",
   "source": [
    "f = Square()\n",
    "x_nd = Variable(np.array(2.0))\n",
    "dy = numerical_diff(f, x_nd)\n",
    "print(dy)"
   ],
   "id": "252238610a90b3f1",
   "outputs": [
    {
     "name": "stdout",
     "output_type": "stream",
     "text": [
      "4.000000000115023\n"
     ]
    }
   ],
   "execution_count": 44
  },
  {
   "metadata": {
    "ExecuteTime": {
     "end_time": "2024-07-13T13:01:11.205089Z",
     "start_time": "2024-07-13T13:01:11.191091Z"
    }
   },
   "cell_type": "code",
   "source": [
    "def f(x):\n",
    "    A = Square()\n",
    "    B = Exp()\n",
    "    C = Square()\n",
    "    return C(B(A(x)))"
   ],
   "id": "e33fb56796e99d8f",
   "outputs": [],
   "execution_count": 45
  },
  {
   "metadata": {
    "ExecuteTime": {
     "end_time": "2024-07-13T13:01:11.220892Z",
     "start_time": "2024-07-13T13:01:11.206089Z"
    }
   },
   "cell_type": "code",
   "source": [
    "x_nd2 = Variable(np.array(0.5))\n",
    "dy = numerical_diff(f, x_nd2)\n",
    "print(dy)"
   ],
   "id": "76494591276e8ece",
   "outputs": [
    {
     "name": "stdout",
     "output_type": "stream",
     "text": [
      "3.297442541350115\n"
     ]
    }
   ],
   "execution_count": 46
  },
  {
   "metadata": {
    "ExecuteTime": {
     "end_time": "2024-07-13T13:01:11.236420Z",
     "start_time": "2024-07-13T13:01:11.221874Z"
    }
   },
   "cell_type": "code",
   "source": "dy - x.grad < 1e-6",
   "id": "8be41c19301522bf",
   "outputs": [
    {
     "data": {
      "text/plain": [
       "True"
      ]
     },
     "execution_count": 47,
     "metadata": {},
     "output_type": "execute_result"
    }
   ],
   "execution_count": 47
  },
  {
   "metadata": {},
   "cell_type": "markdown",
   "source": "> 数值微分结果与反向传播结果十分接近",
   "id": "5fd37d941387546c"
  }
 ],
 "metadata": {
  "kernelspec": {
   "display_name": "Python 3",
   "language": "python",
   "name": "python3"
  },
  "language_info": {
   "codemirror_mode": {
    "name": "ipython",
    "version": 2
   },
   "file_extension": ".py",
   "mimetype": "text/x-python",
   "name": "python",
   "nbconvert_exporter": "python",
   "pygments_lexer": "ipython2",
   "version": "2.7.6"
  }
 },
 "nbformat": 4,
 "nbformat_minor": 5
}

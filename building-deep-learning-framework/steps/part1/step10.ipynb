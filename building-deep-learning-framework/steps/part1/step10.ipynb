{
 "cells": [
  {
   "metadata": {
    "ExecuteTime": {
     "end_time": "2024-07-13T13:59:51.929367Z",
     "start_time": "2024-07-13T13:59:51.858833Z"
    }
   },
   "cell_type": "code",
   "source": "import numpy as np",
   "id": "initial_id",
   "outputs": [],
   "execution_count": 1
  },
  {
   "metadata": {},
   "cell_type": "markdown",
   "source": [
    "## Variable Like a Tag\n",
    "\n",
    "> 变量像个标签"
   ],
   "id": "7bcee71a98b81e0f"
  },
  {
   "metadata": {
    "ExecuteTime": {
     "end_time": "2024-07-13T13:59:51.945485Z",
     "start_time": "2024-07-13T13:59:51.930368Z"
    }
   },
   "cell_type": "code",
   "source": [
    "class Variable:\n",
    "    def __init__(self, data):\n",
    "        if data is not None:\n",
    "            if not isinstance(data, np.ndarray):\n",
    "                raise TypeError('{} is not supported'.format(type(data)))\n",
    "\n",
    "        self.data = data\n",
    "        self.grad = None\n",
    "        self.creator = None\n",
    "\n",
    "    def set_creator(self, func):\n",
    "        self.creator = func\n",
    "\n",
    "    def backward(self):\n",
    "        if self.grad is None:\n",
    "            self.grad = np.ones_like(self.data) # TODO: ques\n",
    "\n",
    "        funcs = [self.creator]\n",
    "        while funcs:\n",
    "            f = funcs.pop()\n",
    "            x, y = f.input, f.output\n",
    "            x.grad = f.backward(y.grad)\n",
    "\n",
    "            if x.creator is not None:\n",
    "                funcs.append(x.creator)"
   ],
   "id": "bf2ab4958f75f0c9",
   "outputs": [],
   "execution_count": 2
  },
  {
   "metadata": {
    "ExecuteTime": {
     "end_time": "2024-07-13T13:59:51.960638Z",
     "start_time": "2024-07-13T13:59:51.946487Z"
    }
   },
   "cell_type": "code",
   "source": [
    "def as_array(x):\n",
    "    if np.isscalar(x):\n",
    "        return np.array(x)\n",
    "    return x"
   ],
   "id": "5fd50fe198949d02",
   "outputs": [],
   "execution_count": 3
  },
  {
   "metadata": {
    "ExecuteTime": {
     "end_time": "2024-07-13T13:59:51.976218Z",
     "start_time": "2024-07-13T13:59:51.962638Z"
    }
   },
   "cell_type": "code",
   "source": [
    "class Function:\n",
    "    def __call__(self, input_variable: Variable):\n",
    "        input_data = input_variable.data\n",
    "        output_data = self.forward(input_data)\n",
    "        output_variable = Variable(as_array(output_data))\n",
    "        output_variable.set_creator(self)\n",
    "        self.input: Variable = input_variable\n",
    "        self.output: Variable = output_variable\n",
    "        return output_variable\n",
    "    \n",
    "    def forward(self, input_data):\n",
    "        raise NotImplementedError()\n",
    "    \n",
    "    def backward(self, output_data):\n",
    "        \"\"\"\n",
    "        \n",
    "        :param output_data: gradient of the output with respect to input data.\n",
    "        :return: \n",
    "        \"\"\"\n",
    "        raise NotImplementedError()"
   ],
   "id": "d427bc0d15acd089",
   "outputs": [],
   "execution_count": 4
  },
  {
   "metadata": {
    "ExecuteTime": {
     "end_time": "2024-07-13T13:59:51.991712Z",
     "start_time": "2024-07-13T13:59:51.977219Z"
    }
   },
   "cell_type": "code",
   "source": [
    "class Square(Function):\n",
    "    def forward(self, input_data):\n",
    "        \"\"\"\n",
    "        \n",
    "        :param input_data: any data, or `x`\n",
    "        :return: output, or `y`\n",
    "        \"\"\"\n",
    "        output = input_data ** 2\n",
    "        return output\n",
    "    \n",
    "    def backward(self, output_data):\n",
    "        \"\"\"\n",
    "        \n",
    "        :param output_data: `gy`\n",
    "        :return: grad_input, or `gx`\n",
    "        \"\"\"\n",
    "        input_data = self.input.data\n",
    "        grad_input = 2 * input_data * output_data\n",
    "        return grad_input"
   ],
   "id": "36523c575b3e9200",
   "outputs": [],
   "execution_count": 5
  },
  {
   "metadata": {
    "ExecuteTime": {
     "end_time": "2024-07-13T13:59:52.006676Z",
     "start_time": "2024-07-13T13:59:51.992714Z"
    }
   },
   "cell_type": "code",
   "source": [
    "class Exp(Function):\n",
    "    def forward(self, input_data):\n",
    "        return np.exp(input_data)\n",
    "    \n",
    "    def backward(self, output_data):\n",
    "        input_data = self.input.data\n",
    "        grad_input = np.exp(input_data) * output_data\n",
    "        return grad_input"
   ],
   "id": "3506b7f364d58f71",
   "outputs": [],
   "execution_count": 6
  },
  {
   "metadata": {
    "ExecuteTime": {
     "end_time": "2024-07-13T13:59:52.022681Z",
     "start_time": "2024-07-13T13:59:52.007677Z"
    }
   },
   "cell_type": "code",
   "source": [
    "def square(x):\n",
    "    return Square()(x)\n",
    "\n",
    "\n",
    "def exp(x):\n",
    "    return Exp()(x)"
   ],
   "id": "aec1de0f8b8f61f6",
   "outputs": [],
   "execution_count": 7
  },
  {
   "metadata": {
    "ExecuteTime": {
     "end_time": "2024-07-13T13:59:52.038183Z",
     "start_time": "2024-07-13T13:59:52.023683Z"
    }
   },
   "cell_type": "code",
   "source": [
    "x = Variable(np.array(0.5))\n",
    "y = square(exp(square(x)))\n",
    "y.backward()\n",
    "print(x.grad)"
   ],
   "id": "3cb7d0755d95be21",
   "outputs": [
    {
     "name": "stdout",
     "output_type": "stream",
     "text": [
      "3.297442541400256\n"
     ]
    }
   ],
   "execution_count": 8
  },
  {
   "metadata": {
    "ExecuteTime": {
     "end_time": "2024-07-13T13:59:52.053938Z",
     "start_time": "2024-07-13T13:59:52.039188Z"
    }
   },
   "cell_type": "code",
   "source": [
    "def numerical_diff(f, x, eps=1e-4):\n",
    "    x0 = Variable(x.data - eps)\n",
    "    x1 = Variable(x.data + eps)\n",
    "    y0 = f(x0)\n",
    "    y1 = f(x1)\n",
    "    return (y1.data - y0.data) / (2 * eps)\n"
   ],
   "id": "8b5dd5dab9904535",
   "outputs": [],
   "execution_count": 9
  },
  {
   "metadata": {},
   "cell_type": "markdown",
   "source": "## Test",
   "id": "eb7519a2b8012f87"
  },
  {
   "metadata": {
    "ExecuteTime": {
     "end_time": "2024-07-13T13:59:52.069939Z",
     "start_time": "2024-07-13T13:59:52.054940Z"
    }
   },
   "cell_type": "code",
   "source": [
    "import unittest\n",
    "\n",
    "\n",
    "class SquareTest(unittest.TestCase):\n",
    "    def test_forward(self):\n",
    "        x = Variable(np.array(2.0))\n",
    "        y = square(x)\n",
    "        expected = np.array(4.0)\n",
    "        self.assertEqual(y.data, expected)\n",
    "\n",
    "    def test_backward(self):\n",
    "        x = Variable(np.array(3.0))\n",
    "        y = square(x)\n",
    "        y.backward()\n",
    "        expected = np.array(6.0)\n",
    "        self.assertEqual(x.grad, expected)\n",
    "\n",
    "    def test_gradient_check(self):\n",
    "        x = Variable(np.random.rand(1))\n",
    "        y = square(x)\n",
    "        y.backward()\n",
    "        num_grad = numerical_diff(square, x)\n",
    "        flg = np.allclose(x.grad, num_grad)\n",
    "        self.assertTrue(flg)\n",
    "\n",
    "\n",
    "class TestVariable(unittest.TestCase):\n",
    "    \"\"\"\n",
    "    x = Variable(np.array(1.0))  # OK\n",
    "    x = Variable(None)  # OK\n",
    "    x = Variable(1.0)  # NG\n",
    "    \"\"\"\n",
    "    def test_init_with_ndarray(self):\n",
    "        data = np.array(1.0)\n",
    "        var = Variable(data)\n",
    "        self.assertIsInstance(var.data, np.ndarray)\n",
    "        self.assertEqual(var.data, data)\n",
    "\n",
    "    def test_init_with_none(self):\n",
    "        var = Variable(None)\n",
    "        self.assertIsNone(var.data)\n",
    "\n",
    "    def test_init_with_unsupported_type(self):\n",
    "        with self.assertRaises(TypeError) as context:\n",
    "            Variable(1.0)\n",
    "        self.assertTrue('is not supported' in str(context.exception))\n",
    "\n",
    "    def test_set_creator(self):\n",
    "        var = Variable(np.array(1.0))\n",
    "        var.set_creator('creator_func')\n",
    "        self.assertEqual(var.creator, 'creator_func')\n",
    "\n",
    "    # Additional tests for backward can be added here\n",
    "    # depending on the implementation of the function and its context\n"
   ],
   "id": "f32cd62a35e02c4f",
   "outputs": [],
   "execution_count": 10
  },
  {
   "metadata": {
    "ExecuteTime": {
     "end_time": "2024-07-13T13:59:52.085121Z",
     "start_time": "2024-07-13T13:59:52.070622Z"
    }
   },
   "cell_type": "code",
   "source": "unittest.main(argv=[''], verbosity=2, exit=False)",
   "id": "bca75fbe9db6a06d",
   "outputs": [
    {
     "name": "stderr",
     "output_type": "stream",
     "text": [
      "test_backward (__main__.SquareTest) ... ok\n",
      "test_forward (__main__.SquareTest) ... ok\n",
      "test_gradient_check (__main__.SquareTest) ... ok\n",
      "test_init_with_ndarray (__main__.TestVariable) ... ok\n",
      "test_init_with_none (__main__.TestVariable) ... ok\n",
      "test_init_with_unsupported_type (__main__.TestVariable) ... ok\n",
      "test_set_creator (__main__.TestVariable) ... ok\n",
      "\n",
      "----------------------------------------------------------------------\n",
      "Ran 7 tests in 0.003s\n",
      "\n",
      "OK\n"
     ]
    },
    {
     "data": {
      "text/plain": [
       "<unittest.main.TestProgram at 0x1897fcb1788>"
      ]
     },
     "execution_count": 11,
     "metadata": {},
     "output_type": "execute_result"
    }
   ],
   "execution_count": 11
  }
 ],
 "metadata": {
  "kernelspec": {
   "display_name": "Python 3",
   "language": "python",
   "name": "python3"
  },
  "language_info": {
   "codemirror_mode": {
    "name": "ipython",
    "version": 2
   },
   "file_extension": ".py",
   "mimetype": "text/x-python",
   "name": "python",
   "nbconvert_exporter": "python",
   "pygments_lexer": "ipython2",
   "version": "2.7.6"
  }
 },
 "nbformat": 4,
 "nbformat_minor": 5
}

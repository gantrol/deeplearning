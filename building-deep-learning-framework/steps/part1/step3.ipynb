{
 "cells": [
  {
   "metadata": {
    "ExecuteTime": {
     "end_time": "2024-07-13T12:21:29.737498Z",
     "start_time": "2024-07-13T12:21:29.635683Z"
    }
   },
   "cell_type": "code",
   "source": "import numpy as np",
   "id": "initial_id",
   "outputs": [],
   "execution_count": 1
  },
  {
   "metadata": {},
   "cell_type": "markdown",
   "source": [
    "## Variable Like a Tag\n",
    "\n",
    "> 变量像个标签"
   ],
   "id": "7bcee71a98b81e0f"
  },
  {
   "metadata": {
    "ExecuteTime": {
     "end_time": "2024-07-13T12:21:29.753522Z",
     "start_time": "2024-07-13T12:21:29.738498Z"
    }
   },
   "cell_type": "code",
   "source": [
    "class Variable:\n",
    "    def __init__(self, data):\n",
    "        self.data = data"
   ],
   "id": "bf2ab4958f75f0c9",
   "outputs": [],
   "execution_count": 2
  },
  {
   "metadata": {
    "ExecuteTime": {
     "end_time": "2024-07-13T12:21:29.769529Z",
     "start_time": "2024-07-13T12:21:29.754523Z"
    }
   },
   "cell_type": "code",
   "source": [
    "class Function:\n",
    "    def __call__(self, input_variable: Variable):\n",
    "        input_data = input_variable.data\n",
    "        output_data = self.forward(input_data)\n",
    "        output_variable = Variable(output_data)\n",
    "        return output_variable\n",
    "    \n",
    "    def forward(self, input_data):\n",
    "        raise NotImplementedError()"
   ],
   "id": "d427bc0d15acd089",
   "outputs": [],
   "execution_count": 3
  },
  {
   "metadata": {
    "ExecuteTime": {
     "end_time": "2024-07-13T12:21:29.784917Z",
     "start_time": "2024-07-13T12:21:29.770530Z"
    }
   },
   "cell_type": "code",
   "source": [
    "class Square(Function):\n",
    "    def forward(self, input_data):\n",
    "        return input_data ** 2"
   ],
   "id": "36523c575b3e9200",
   "outputs": [],
   "execution_count": 4
  },
  {
   "metadata": {
    "ExecuteTime": {
     "end_time": "2024-07-13T12:21:29.800882Z",
     "start_time": "2024-07-13T12:21:29.785917Z"
    }
   },
   "cell_type": "code",
   "source": [
    "class Exp(Function):\n",
    "    def forward(self, input_data):\n",
    "        return np.exp(input_data)"
   ],
   "id": "3506b7f364d58f71",
   "outputs": [],
   "execution_count": 5
  },
  {
   "metadata": {
    "ExecuteTime": {
     "end_time": "2024-07-13T12:21:29.816974Z",
     "start_time": "2024-07-13T12:21:29.803886Z"
    }
   },
   "cell_type": "code",
   "source": [
    "A = Square()\n",
    "B = Exp()\n",
    "C = Square()"
   ],
   "id": "25492efc6a183a6a",
   "outputs": [],
   "execution_count": 6
  },
  {
   "metadata": {
    "ExecuteTime": {
     "end_time": "2024-07-13T12:21:29.832555Z",
     "start_time": "2024-07-13T12:21:29.817975Z"
    }
   },
   "cell_type": "code",
   "source": [
    "x = Variable(np.array(0.5))\n",
    "a = A(x)\n",
    "b = B(a)\n",
    "y = C(b)\n",
    "print(y.data)"
   ],
   "id": "8b348a61bdd7fc32",
   "outputs": [
    {
     "name": "stdout",
     "output_type": "stream",
     "text": [
      "1.648721270700128\n"
     ]
    }
   ],
   "execution_count": 7
  }
 ],
 "metadata": {
  "kernelspec": {
   "display_name": "Python 3",
   "language": "python",
   "name": "python3"
  },
  "language_info": {
   "codemirror_mode": {
    "name": "ipython",
    "version": 2
   },
   "file_extension": ".py",
   "mimetype": "text/x-python",
   "name": "python",
   "nbconvert_exporter": "python",
   "pygments_lexer": "ipython2",
   "version": "2.7.6"
  }
 },
 "nbformat": 4,
 "nbformat_minor": 5
}

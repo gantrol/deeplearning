{
 "cells": [
  {
   "metadata": {
    "ExecuteTime": {
     "end_time": "2024-07-13T13:50:51.516927Z",
     "start_time": "2024-07-13T13:50:51.502911Z"
    }
   },
   "cell_type": "code",
   "source": "import numpy as np",
   "id": "initial_id",
   "outputs": [],
   "execution_count": 10
  },
  {
   "metadata": {},
   "cell_type": "markdown",
   "source": [
    "## Variable Like a Tag\n",
    "\n",
    "> 变量像个标签"
   ],
   "id": "7bcee71a98b81e0f"
  },
  {
   "metadata": {
    "ExecuteTime": {
     "end_time": "2024-07-13T13:50:51.532930Z",
     "start_time": "2024-07-13T13:50:51.520931Z"
    }
   },
   "cell_type": "code",
   "source": [
    "class Variable:\n",
    "    def __init__(self, data):\n",
    "        if data is not None:\n",
    "            if not isinstance(data, np.ndarray):\n",
    "                raise TypeError('{} is not supported'.format(type(data)))\n",
    "\n",
    "        self.data = data\n",
    "        self.grad = None\n",
    "        self.creator = None\n",
    "\n",
    "    def set_creator(self, func):\n",
    "        self.creator = func\n",
    "\n",
    "    def backward(self):\n",
    "        if self.grad is None:\n",
    "            self.grad = np.ones_like(self.data) # TODO: ques\n",
    "\n",
    "        funcs = [self.creator]\n",
    "        while funcs:\n",
    "            f = funcs.pop()\n",
    "            x, y = f.input, f.output\n",
    "            x.grad = f.backward(y.grad)\n",
    "\n",
    "            if x.creator is not None:\n",
    "                funcs.append(x.creator)"
   ],
   "id": "bf2ab4958f75f0c9",
   "outputs": [],
   "execution_count": 11
  },
  {
   "metadata": {
    "ExecuteTime": {
     "end_time": "2024-07-13T13:50:51.548797Z",
     "start_time": "2024-07-13T13:50:51.533930Z"
    }
   },
   "cell_type": "code",
   "source": [
    "import unittest\n",
    "\n",
    "class TestVariable(unittest.TestCase):\n",
    "    \"\"\"\n",
    "    x = Variable(np.array(1.0))  # OK\n",
    "    x = Variable(None)  # OK\n",
    "    x = Variable(1.0)  # NG\n",
    "    \"\"\"\n",
    "    def test_init_with_ndarray(self):\n",
    "        data = np.array(1.0)\n",
    "        var = Variable(data)\n",
    "        self.assertIsInstance(var.data, np.ndarray)\n",
    "        self.assertEqual(var.data, data)\n",
    "\n",
    "    def test_init_with_none(self):\n",
    "        var = Variable(None)\n",
    "        self.assertIsNone(var.data)\n",
    "\n",
    "    def test_init_with_unsupported_type(self):\n",
    "        with self.assertRaises(TypeError) as context:\n",
    "            Variable(1.0)\n",
    "        self.assertTrue('is not supported' in str(context.exception))\n",
    "\n",
    "    def test_set_creator(self):\n",
    "        var = Variable(np.array(1.0))\n",
    "        var.set_creator('creator_func')\n",
    "        self.assertEqual(var.creator, 'creator_func')\n",
    "\n",
    "    # Additional tests for backward can be added here\n",
    "    # depending on the implementation of the function and its context\n",
    "    \n",
    "unittest.main(argv=[''], verbosity=2, exit=False)"
   ],
   "id": "95059f1e6054a0d",
   "outputs": [
    {
     "name": "stderr",
     "output_type": "stream",
     "text": [
      "test_init_with_ndarray (__main__.TestVariable) ... ok\n",
      "test_init_with_none (__main__.TestVariable) ... ok\n",
      "test_init_with_unsupported_type (__main__.TestVariable) ... ok\n",
      "test_set_creator (__main__.TestVariable) ... ok\n",
      "\n",
      "----------------------------------------------------------------------\n",
      "Ran 4 tests in 0.001s\n",
      "\n",
      "OK\n"
     ]
    },
    {
     "data": {
      "text/plain": [
       "<unittest.main.TestProgram at 0x1a7ffb724c8>"
      ]
     },
     "execution_count": 12,
     "metadata": {},
     "output_type": "execute_result"
    }
   ],
   "execution_count": 12
  },
  {
   "metadata": {
    "ExecuteTime": {
     "end_time": "2024-07-13T13:50:51.564753Z",
     "start_time": "2024-07-13T13:50:51.549756Z"
    }
   },
   "cell_type": "code",
   "source": [
    "def as_array(x):\n",
    "    if np.isscalar(x):\n",
    "        return np.array(x)\n",
    "    return x"
   ],
   "id": "5fd50fe198949d02",
   "outputs": [],
   "execution_count": 13
  },
  {
   "metadata": {
    "ExecuteTime": {
     "end_time": "2024-07-13T13:50:51.580753Z",
     "start_time": "2024-07-13T13:50:51.565753Z"
    }
   },
   "cell_type": "code",
   "source": [
    "class Function:\n",
    "    def __call__(self, input_variable: Variable):\n",
    "        input_data = input_variable.data\n",
    "        output_data = self.forward(input_data)\n",
    "        output_variable = Variable(as_array(output_data))\n",
    "        output_variable.set_creator(self)\n",
    "        self.input: Variable = input_variable\n",
    "        self.output: Variable = output_variable\n",
    "        return output_variable\n",
    "    \n",
    "    def forward(self, input_data):\n",
    "        raise NotImplementedError()\n",
    "    \n",
    "    def backward(self, output_data):\n",
    "        \"\"\"\n",
    "        \n",
    "        :param output_data: gradient of the output with respect to input data.\n",
    "        :return: \n",
    "        \"\"\"\n",
    "        raise NotImplementedError()"
   ],
   "id": "d427bc0d15acd089",
   "outputs": [],
   "execution_count": 14
  },
  {
   "metadata": {
    "ExecuteTime": {
     "end_time": "2024-07-13T13:50:51.596787Z",
     "start_time": "2024-07-13T13:50:51.581753Z"
    }
   },
   "cell_type": "code",
   "source": [
    "class Square(Function):\n",
    "    def forward(self, input_data):\n",
    "        \"\"\"\n",
    "        \n",
    "        :param input_data: any data, or `x`\n",
    "        :return: output, or `y`\n",
    "        \"\"\"\n",
    "        output = input_data ** 2\n",
    "        return output\n",
    "    \n",
    "    def backward(self, output_data):\n",
    "        \"\"\"\n",
    "        \n",
    "        :param output_data: `gy`\n",
    "        :return: grad_input, or `gx`\n",
    "        \"\"\"\n",
    "        input_data = self.input.data\n",
    "        grad_input = 2 * input_data * output_data\n",
    "        return grad_input"
   ],
   "id": "36523c575b3e9200",
   "outputs": [],
   "execution_count": 15
  },
  {
   "metadata": {
    "ExecuteTime": {
     "end_time": "2024-07-13T13:50:51.612800Z",
     "start_time": "2024-07-13T13:50:51.598756Z"
    }
   },
   "cell_type": "code",
   "source": [
    "class Exp(Function):\n",
    "    def forward(self, input_data):\n",
    "        return np.exp(input_data)\n",
    "    \n",
    "    def backward(self, output_data):\n",
    "        input_data = self.input.data\n",
    "        grad_input = np.exp(input_data) * output_data\n",
    "        return grad_input"
   ],
   "id": "3506b7f364d58f71",
   "outputs": [],
   "execution_count": 16
  },
  {
   "metadata": {
    "ExecuteTime": {
     "end_time": "2024-07-13T13:50:51.628054Z",
     "start_time": "2024-07-13T13:50:51.613800Z"
    }
   },
   "cell_type": "code",
   "source": [
    "def square(x):\n",
    "    return Square()(x)\n",
    "\n",
    "\n",
    "def exp(x):\n",
    "    return Exp()(x)"
   ],
   "id": "aec1de0f8b8f61f6",
   "outputs": [],
   "execution_count": 17
  },
  {
   "metadata": {
    "ExecuteTime": {
     "end_time": "2024-07-13T13:50:51.643053Z",
     "start_time": "2024-07-13T13:50:51.630056Z"
    }
   },
   "cell_type": "code",
   "source": [
    "x = Variable(np.array(0.5))\n",
    "y = square(exp(square(x)))\n",
    "y.backward()\n",
    "print(x.grad)"
   ],
   "id": "3cb7d0755d95be21",
   "outputs": [
    {
     "name": "stdout",
     "output_type": "stream",
     "text": [
      "3.297442541400256\n"
     ]
    }
   ],
   "execution_count": 18
  }
 ],
 "metadata": {
  "kernelspec": {
   "display_name": "Python 3",
   "language": "python",
   "name": "python3"
  },
  "language_info": {
   "codemirror_mode": {
    "name": "ipython",
    "version": 2
   },
   "file_extension": ".py",
   "mimetype": "text/x-python",
   "name": "python",
   "nbconvert_exporter": "python",
   "pygments_lexer": "ipython2",
   "version": "2.7.6"
  }
 },
 "nbformat": 4,
 "nbformat_minor": 5
}

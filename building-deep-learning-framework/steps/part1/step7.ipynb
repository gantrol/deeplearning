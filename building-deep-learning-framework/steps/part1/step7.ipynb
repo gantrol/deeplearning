{
 "cells": [
  {
   "metadata": {
    "ExecuteTime": {
     "end_time": "2024-07-13T13:14:53.232745Z",
     "start_time": "2024-07-13T13:14:53.161625Z"
    }
   },
   "cell_type": "code",
   "source": "import numpy as np",
   "id": "initial_id",
   "outputs": [],
   "execution_count": 1
  },
  {
   "metadata": {},
   "cell_type": "markdown",
   "source": [
    "## Variable Like a Tag\n",
    "\n",
    "> 变量像个标签"
   ],
   "id": "7bcee71a98b81e0f"
  },
  {
   "metadata": {
    "ExecuteTime": {
     "end_time": "2024-07-13T13:14:53.248746Z",
     "start_time": "2024-07-13T13:14:53.233747Z"
    }
   },
   "cell_type": "code",
   "source": [
    "class Variable:\n",
    "    def __init__(self, data):\n",
    "        self.data = data\n",
    "        self.grad = None\n",
    "        self.creator = None\n",
    "\n",
    "    def set_creator(self, func):\n",
    "        self.creator = func\n",
    "\n",
    "    def backward(self):\n",
    "        f = self.creator  # 1. Get a function\n",
    "        if f is not None:\n",
    "            x = f.input  # 2. Get the function's input\n",
    "            x.grad = f.backward(self.grad)  # 3. Call the function's backward\n",
    "            x.backward()"
   ],
   "id": "bf2ab4958f75f0c9",
   "outputs": [],
   "execution_count": 2
  },
  {
   "metadata": {
    "ExecuteTime": {
     "end_time": "2024-07-13T13:14:53.264159Z",
     "start_time": "2024-07-13T13:14:53.249748Z"
    }
   },
   "cell_type": "code",
   "source": [
    "class Function:\n",
    "    def __call__(self, input_variable: Variable):\n",
    "        input_data = input_variable.data\n",
    "        output_data = self.forward(input_data)\n",
    "        output_variable = Variable(output_data)\n",
    "        output_variable.set_creator(self)  # Set parent(function)\n",
    "        self.input: Variable = input_variable\n",
    "        self.output: Variable = output_variable  # Set output\n",
    "        return output_variable\n",
    "    \n",
    "    def forward(self, input_data):\n",
    "        raise NotImplementedError()\n",
    "    \n",
    "    def backward(self, output_data):\n",
    "        \"\"\"\n",
    "        \n",
    "        :param output_data: gradient of the output with respect to input data.\n",
    "        :return: \n",
    "        \"\"\"\n",
    "        raise NotImplementedError()"
   ],
   "id": "d427bc0d15acd089",
   "outputs": [],
   "execution_count": 3
  },
  {
   "metadata": {
    "ExecuteTime": {
     "end_time": "2024-07-13T13:14:53.280159Z",
     "start_time": "2024-07-13T13:14:53.265160Z"
    }
   },
   "cell_type": "code",
   "source": [
    "class Square(Function):\n",
    "    def forward(self, input_data):\n",
    "        \"\"\"\n",
    "        \n",
    "        :param input_data: any data, or `x`\n",
    "        :return: output, or `y`\n",
    "        \"\"\"\n",
    "        output = input_data ** 2\n",
    "        return output\n",
    "    \n",
    "    def backward(self, output_data):\n",
    "        \"\"\"\n",
    "        \n",
    "        :param output_data: `gy`\n",
    "        :return: grad_input, or `gx`\n",
    "        \"\"\"\n",
    "        input_data = self.input.data\n",
    "        grad_input = 2 * input_data * output_data\n",
    "        return grad_input"
   ],
   "id": "36523c575b3e9200",
   "outputs": [],
   "execution_count": 4
  },
  {
   "metadata": {
    "ExecuteTime": {
     "end_time": "2024-07-13T13:14:53.296159Z",
     "start_time": "2024-07-13T13:14:53.282160Z"
    }
   },
   "cell_type": "code",
   "source": [
    "class Exp(Function):\n",
    "    def forward(self, input_data):\n",
    "        return np.exp(input_data)\n",
    "    \n",
    "    def backward(self, output_data):\n",
    "        input_data = self.input.data\n",
    "        grad_input = np.exp(input_data) * output_data\n",
    "        return grad_input"
   ],
   "id": "3506b7f364d58f71",
   "outputs": [],
   "execution_count": 5
  },
  {
   "metadata": {
    "ExecuteTime": {
     "end_time": "2024-07-13T13:14:53.311661Z",
     "start_time": "2024-07-13T13:14:53.298160Z"
    }
   },
   "cell_type": "code",
   "source": [
    "A = Square()\n",
    "B = Exp()\n",
    "C = Square()\n",
    "\n",
    "x = Variable(np.array(0.5))\n",
    "a = A(x)\n",
    "b = B(a)\n",
    "y = C(b)"
   ],
   "id": "aec1de0f8b8f61f6",
   "outputs": [],
   "execution_count": 6
  },
  {
   "metadata": {
    "ExecuteTime": {
     "end_time": "2024-07-13T13:14:53.327210Z",
     "start_time": "2024-07-13T13:14:53.312661Z"
    }
   },
   "cell_type": "code",
   "source": [
    "y.grad = np.array(1.0)\n",
    "y.backward()\n",
    "print(x.grad)"
   ],
   "id": "3cb7d0755d95be21",
   "outputs": [
    {
     "name": "stdout",
     "output_type": "stream",
     "text": [
      "3.297442541400256\n"
     ]
    }
   ],
   "execution_count": 7
  },
  {
   "metadata": {
    "ExecuteTime": {
     "end_time": "2024-07-13T13:14:53.342210Z",
     "start_time": "2024-07-13T13:14:53.328210Z"
    }
   },
   "cell_type": "code",
   "source": [
    "def numerical_diff(f, x: Variable, eps=1e-6):\n",
    "    x0 = Variable(x.data - eps)\n",
    "    x1 = Variable(x.data + eps)\n",
    "    y0 = f(x0)\n",
    "    y1 = f(x1)\n",
    "    return (y1.data - y0.data) / (2 * eps)"
   ],
   "id": "25492efc6a183a6a",
   "outputs": [],
   "execution_count": 8
  },
  {
   "metadata": {
    "ExecuteTime": {
     "end_time": "2024-07-13T13:14:53.357693Z",
     "start_time": "2024-07-13T13:14:53.343211Z"
    }
   },
   "cell_type": "code",
   "source": [
    "f = Square()\n",
    "x_nd = Variable(np.array(2.0))\n",
    "dy = numerical_diff(f, x_nd)\n",
    "print(dy)"
   ],
   "id": "252238610a90b3f1",
   "outputs": [
    {
     "name": "stdout",
     "output_type": "stream",
     "text": [
      "4.000000000115023\n"
     ]
    }
   ],
   "execution_count": 9
  },
  {
   "metadata": {
    "ExecuteTime": {
     "end_time": "2024-07-13T13:14:53.373452Z",
     "start_time": "2024-07-13T13:14:53.358693Z"
    }
   },
   "cell_type": "code",
   "source": [
    "def f(x):\n",
    "    A = Square()\n",
    "    B = Exp()\n",
    "    C = Square()\n",
    "    return C(B(A(x)))"
   ],
   "id": "e33fb56796e99d8f",
   "outputs": [],
   "execution_count": 10
  },
  {
   "metadata": {
    "ExecuteTime": {
     "end_time": "2024-07-13T13:14:53.388491Z",
     "start_time": "2024-07-13T13:14:53.374453Z"
    }
   },
   "cell_type": "code",
   "source": [
    "x_nd2 = Variable(np.array(0.5))\n",
    "dy = numerical_diff(f, x_nd2)\n",
    "print(dy)"
   ],
   "id": "76494591276e8ece",
   "outputs": [
    {
     "name": "stdout",
     "output_type": "stream",
     "text": [
      "3.297442541350115\n"
     ]
    }
   ],
   "execution_count": 11
  },
  {
   "metadata": {
    "ExecuteTime": {
     "end_time": "2024-07-13T13:14:53.404493Z",
     "start_time": "2024-07-13T13:14:53.388491Z"
    }
   },
   "cell_type": "code",
   "source": "dy - x.grad < 1e-6",
   "id": "8be41c19301522bf",
   "outputs": [
    {
     "data": {
      "text/plain": [
       "True"
      ]
     },
     "execution_count": 12,
     "metadata": {},
     "output_type": "execute_result"
    }
   ],
   "execution_count": 12
  },
  {
   "metadata": {},
   "cell_type": "markdown",
   "source": "> 数值微分结果与反向传播结果十分接近",
   "id": "5fd37d941387546c"
  }
 ],
 "metadata": {
  "kernelspec": {
   "display_name": "Python 3",
   "language": "python",
   "name": "python3"
  },
  "language_info": {
   "codemirror_mode": {
    "name": "ipython",
    "version": 2
   },
   "file_extension": ".py",
   "mimetype": "text/x-python",
   "name": "python",
   "nbconvert_exporter": "python",
   "pygments_lexer": "ipython2",
   "version": "2.7.6"
  }
 },
 "nbformat": 4,
 "nbformat_minor": 5
}
